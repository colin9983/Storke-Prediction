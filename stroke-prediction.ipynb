{
 "cells": [
  {
   "cell_type": "code",
   "execution_count": 56,
   "source": [
    "import numpy as np\r\n",
    "import pandas as pd\r\n",
    "from matplotlib import pyplot as plt\r\n",
    "import seaborn as sns\r\n",
    "\r\n",
    "from sklearn.model_selection import train_test_split\r\n",
    "from sklearn.metrics import classification_report, accuracy_score, confusion_matrix, precision_score, recall_score"
   ],
   "outputs": [],
   "metadata": {}
  },
  {
   "cell_type": "code",
   "execution_count": 57,
   "source": [
    "df = pd.read_csv(\"C:/Users/hou60/Downloads/healthcare-dataset-stroke-data.csv\")\r\n",
    "print(df.head(5))\r\n",
    "print('Data shape:',df.shape)\r\n",
    "print('Data info', df.info)"
   ],
   "outputs": [
    {
     "output_type": "stream",
     "name": "stdout",
     "text": [
      "      id  gender   age  hypertension  heart_disease ever_married  \\\n",
      "0   9046    Male  67.0             0              1          Yes   \n",
      "1  51676  Female  61.0             0              0          Yes   \n",
      "2  31112    Male  80.0             0              1          Yes   \n",
      "3  60182  Female  49.0             0              0          Yes   \n",
      "4   1665  Female  79.0             1              0          Yes   \n",
      "\n",
      "       work_type Residence_type  avg_glucose_level   bmi   smoking_status  \\\n",
      "0        Private          Urban             228.69  36.6  formerly smoked   \n",
      "1  Self-employed          Rural             202.21   NaN     never smoked   \n",
      "2        Private          Rural             105.92  32.5     never smoked   \n",
      "3        Private          Urban             171.23  34.4           smokes   \n",
      "4  Self-employed          Rural             174.12  24.0     never smoked   \n",
      "\n",
      "   stroke  \n",
      "0       1  \n",
      "1       1  \n",
      "2       1  \n",
      "3       1  \n",
      "4       1  \n",
      "Data shape: (5110, 12)\n",
      "Data info <bound method DataFrame.info of          id  gender   age  hypertension  heart_disease ever_married  \\\n",
      "0      9046    Male  67.0             0              1          Yes   \n",
      "1     51676  Female  61.0             0              0          Yes   \n",
      "2     31112    Male  80.0             0              1          Yes   \n",
      "3     60182  Female  49.0             0              0          Yes   \n",
      "4      1665  Female  79.0             1              0          Yes   \n",
      "...     ...     ...   ...           ...            ...          ...   \n",
      "5105  18234  Female  80.0             1              0          Yes   \n",
      "5106  44873  Female  81.0             0              0          Yes   \n",
      "5107  19723  Female  35.0             0              0          Yes   \n",
      "5108  37544    Male  51.0             0              0          Yes   \n",
      "5109  44679  Female  44.0             0              0          Yes   \n",
      "\n",
      "          work_type Residence_type  avg_glucose_level   bmi   smoking_status  \\\n",
      "0           Private          Urban             228.69  36.6  formerly smoked   \n",
      "1     Self-employed          Rural             202.21   NaN     never smoked   \n",
      "2           Private          Rural             105.92  32.5     never smoked   \n",
      "3           Private          Urban             171.23  34.4           smokes   \n",
      "4     Self-employed          Rural             174.12  24.0     never smoked   \n",
      "...             ...            ...                ...   ...              ...   \n",
      "5105        Private          Urban              83.75   NaN     never smoked   \n",
      "5106  Self-employed          Urban             125.20  40.0     never smoked   \n",
      "5107  Self-employed          Rural              82.99  30.6     never smoked   \n",
      "5108        Private          Rural             166.29  25.6  formerly smoked   \n",
      "5109       Govt_job          Urban              85.28  26.2          Unknown   \n",
      "\n",
      "      stroke  \n",
      "0          1  \n",
      "1          1  \n",
      "2          1  \n",
      "3          1  \n",
      "4          1  \n",
      "...      ...  \n",
      "5105       0  \n",
      "5106       0  \n",
      "5107       0  \n",
      "5108       0  \n",
      "5109       0  \n",
      "\n",
      "[5110 rows x 12 columns]>\n"
     ]
    }
   ],
   "metadata": {}
  },
  {
   "cell_type": "code",
   "execution_count": 58,
   "source": [
    "df['stroke'].value_counts()"
   ],
   "outputs": [
    {
     "output_type": "execute_result",
     "data": {
      "text/plain": [
       "0    4861\n",
       "1     249\n",
       "Name: stroke, dtype: int64"
      ]
     },
     "metadata": {},
     "execution_count": 58
    }
   ],
   "metadata": {}
  },
  {
   "cell_type": "code",
   "execution_count": 59,
   "source": [
    "sns.countplot(df['stroke'])\r\n"
   ],
   "outputs": [
    {
     "output_type": "stream",
     "name": "stderr",
    },
    {
     "output_type": "execute_result",
     "data": {
      "text/plain": [
       "<AxesSubplot:xlabel='stroke', ylabel='count'>"
      ]
     },
     "metadata": {},
     "execution_count": 59
    },
    {
     "output_type": "display_data",
     "data": {
      "image/png": "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",
      "text/plain": [
       "<Figure size 432x288 with 1 Axes>"
      ]
     },
     "metadata": {
      "needs_background": "light"
     }
    }
   ],
   "metadata": {}
  },
  {
   "cell_type": "code",
   "execution_count": 60,
   "source": [
    "stroke_num = len(df[df['stroke'] == 1])\r\n",
    "print(f'Stroke rate:{round(stroke_num/len(df)*100,3)}%')"
   ],
   "outputs": [
    {
     "output_type": "stream",
     "name": "stdout",
     "text": [
      "Stroke rate:4.873%\n"
     ]
    }
   ],
   "metadata": {}
  },
  {
   "cell_type": "code",
   "execution_count": 61,
   "source": [
    "df.dropna(inplace=True)\r\n",
    "df.info()"
   ],
   "outputs": [
    {
     "output_type": "stream",
     "name": "stdout",
     "text": [
      "<class 'pandas.core.frame.DataFrame'>\n",
      "Int64Index: 4909 entries, 0 to 5109\n",
      "Data columns (total 12 columns):\n",
      " #   Column             Non-Null Count  Dtype  \n",
      "---  ------             --------------  -----  \n",
      " 0   id                 4909 non-null   int64  \n",
      " 1   gender             4909 non-null   object \n",
      " 2   age                4909 non-null   float64\n",
      " 3   hypertension       4909 non-null   int64  \n",
      " 4   heart_disease      4909 non-null   int64  \n",
      " 5   ever_married       4909 non-null   object \n",
      " 6   work_type          4909 non-null   object \n",
      " 7   Residence_type     4909 non-null   object \n",
      " 8   avg_glucose_level  4909 non-null   float64\n",
      " 9   bmi                4909 non-null   float64\n",
      " 10  smoking_status     4909 non-null   object \n",
      " 11  stroke             4909 non-null   int64  \n",
      "dtypes: float64(3), int64(4), object(5)\n",
      "memory usage: 498.6+ KB\n"
     ]
    }
   ],
   "metadata": {}
  },
  {
   "cell_type": "code",
   "execution_count": 62,
   "source": [
    "df.drop(columns=['id'], inplace=True)"
   ],
   "outputs": [],
   "metadata": {}
  },
  {
   "cell_type": "code",
   "execution_count": 63,
   "source": [
    "df['gender'].value_counts()"
   ],
   "outputs": [
    {
     "output_type": "execute_result",
     "data": {
      "text/plain": [
       "Female    2897\n",
       "Male      2011\n",
       "Other        1\n",
       "Name: gender, dtype: int64"
      ]
     },
     "metadata": {},
     "execution_count": 63
    }
   ],
   "metadata": {}
  },
  {
   "cell_type": "code",
   "execution_count": 64,
   "source": [
    "df = df.loc[df[\"gender\"] != 'Other']"
   ],
   "outputs": [],
   "metadata": {}
  },
  {
   "cell_type": "code",
   "execution_count": 65,
   "source": [
    "sns.countplot(x=df[\"stroke\"], hue=df[\"gender\"])"
   ],
   "outputs": [
    {
     "output_type": "execute_result",
     "data": {
      "text/plain": [
       "<AxesSubplot:xlabel='stroke', ylabel='count'>"
      ]
     },
     "metadata": {},
     "execution_count": 65
    },
    {
     "output_type": "display_data",
     "data": {
      "image/png": "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",
      "text/plain": [
       "<Figure size 432x288 with 1 Axes>"
      ]
     },
     "metadata": {
      "needs_background": "light"
     }
    }
   ],
   "metadata": {}
  },
  {
   "cell_type": "code",
   "execution_count": 66,
   "source": [
    "sns.heatmap(df.corr(), annot=True);"
   ],
   "outputs": [
    {
     "output_type": "display_data",
     "data": {
      "image/png": "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",
      "text/plain": [
       "<Figure size 432x288 with 2 Axes>"
      ]
     },
     "metadata": {
      "needs_background": "light"
     }
    }
   ],
   "metadata": {}
  },
  {
   "cell_type": "code",
   "execution_count": 67,
   "source": [
    "fig = sns.FacetGrid(data=df, hue=\"stroke\", aspect=5)\r\n",
    "fig.map(sns.kdeplot, \"age\", shade=True)\r\n",
    "fig.add_legend()"
   ],
   "outputs": [
    {
     "output_type": "execute_result",
     "data": {
      "text/plain": [
       "<seaborn.axisgrid.FacetGrid at 0x26e471284f0>"
      ]
     },
     "metadata": {},
     "execution_count": 67
    },
    {
     "output_type": "display_data",
     "data": {
      "image/png": "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",
      "text/plain": [
       "<Figure size 1122.38x216 with 1 Axes>"
      ]
     },
     "metadata": {
      "needs_background": "light"
     }
    }
   ],
   "metadata": {}
  },
  {
   "cell_type": "code",
   "execution_count": 68,
   "source": [
    "df['hypertension'].value_counts()"
   ],
   "outputs": [
    {
     "output_type": "execute_result",
     "data": {
      "text/plain": [
       "0    4457\n",
       "1     451\n",
       "Name: hypertension, dtype: int64"
      ]
     },
     "metadata": {},
     "execution_count": 68
    }
   ],
   "metadata": {}
  },
  {
   "cell_type": "code",
   "execution_count": 69,
   "source": [
    "df_hypertension = df.groupby(['hypertension','stroke'])['hypertension'].count()\r\n",
    "df_hypertension_total = df.groupby(['hypertension'])['hypertension'].count()\r\n",
    "df_hypertension_fig = df_hypertension / df_hypertension_total * 100\r\n",
    "df_hypertension_fig = df_hypertension_fig.unstack()\r\n",
    "df_hypertension_fig.plot.bar(stacked=True, figsize=(6,6), width=0.5)"
   ],
   "outputs": [
    {
     "output_type": "execute_result",
     "data": {
      "text/plain": [
       "<AxesSubplot:xlabel='hypertension'>"
      ]
     },
     "metadata": {},
     "execution_count": 69
    },
    {
     "output_type": "display_data",
     "data": {
      "image/png": "iVBORw0KGgoAAAANSUhEUgAAAXcAAAFvCAYAAACxRYsIAAAAOXRFWHRTb2Z0d2FyZQBNYXRwbG90bGliIHZlcnNpb24zLjMuNCwgaHR0cHM6Ly9tYXRwbG90bGliLm9yZy8QVMy6AAAACXBIWXMAAAsTAAALEwEAmpwYAAAUVElEQVR4nO3de4ydhXmg8efFl0wxlwA2yDCmY4rTBBuByQSajSDLOgQCESZhWUxFZW5Cm9CWRks2ZquSQFMp3a5SqtISuWmMo4IpCQkgkjggA91cWINNSAAb6gRcGOyFwdsSAjUQ8+4f80Emw/gyc87Msd95fpJ1zvlu5x1reObjm3OOIzORJNWyV6cHkCS1n3GXpIKMuyQVZNwlqSDjLkkFTe70AADTp0/Pnp6eTo8hSXuUtWvXvpCZM4Zbt1vEvaenhzVr1nR6DEnao0TEv2xvnZdlJKkg4y5JBRl3SSrIuEtSQcZdkgoy7pJUkHGXpIKMuyQVZNwlqSDjLkkFGXdJKmincY+Ir0TE8xHx6KBlB0bE3RGxobk9YNC6KyPipxHxREScOlaDS5K2b1fO3G8AThuybAmwKjPnAKuax0TEUcAiYG6zz99GxKS2TStJ2iU7jXtm/m/g/w1ZvBBY3txfDpw1aPnNmflqZj4F/BQ4vj2jSpJ21Wg/8veQzNwMkJmbI+LgZvlhwP8ZtF1fs+xtIuJS4FKAww8/fJRjjLPP7d/pCWr53IudnqAWvz/bp8D3Zrt/oRrDLMvhNszMpZnZm5m9M2YM+1nzkqRRGm3cn4uImQDN7fPN8j5g1qDtuoFNox9PkjQao437HcDi5v5i4PZByxdFxDsiYjYwB3igtRElSSO102vuEbEC+I/A9IjoAz4LfAG4JSIuBp4GzgHIzMci4hZgHfBL4LLM3DZGs0uStmOncc/M87azasF2tv8z4M9aGUqS1BrfoSpJBRl3SSrIuEtSQcZdkgoa7TtUJ6SerTd1eoRSNnZ6AKkwz9wlqSDjLkkFGXdJKsi4S1JBxl2SCjLuklSQcZekgoy7JBVk3CWpIOMuSQUZd0kqyLhLUkHGXZIKMu6SVJBxl6SCjLskFWTcJakg4y5JBRl3SSrIuEtSQcZdkgoy7pJUkHGXpIKMuyQVZNwlqSDjLkkFGXdJKsi4S1JBxl2SCjLuklTQ5E4PIKk9erbe1OkRytjY6QHawDN3SSrIuEtSQcZdkgoy7pJUkHGXpIKMuyQVZNwlqSDjLkkFGXdJKsi4S1JBxl2SCjLuklSQcZekgoy7JBVk3CWpIOMuSQUZd0kqqKW4R8SnIuKxiHg0IlZERFdEHBgRd0fEhub2gHYNK0naNaOOe0QcBvwh0JuZ84BJwCJgCbAqM+cAq5rHkqRx1OplmcnAb0TEZGBvYBOwEFjerF8OnNXic0iSRmjUcc/MZ4H/BTwNbAZezMy7gEMyc3OzzWbg4OH2j4hLI2JNRKzp7+8f7RiSpGG0clnmAAbO0mcDhwLTIuL8Xd0/M5dmZm9m9s6YMWO0Y0iShtHKZZkPAU9lZn9mvg58A/gPwHMRMROguX2+9TElSSPRStyfBn4nIvaOiAAWAOuBO4DFzTaLgdtbG1GSNFKTR7tjZq6OiK8DDwG/BH4ELAX2AW6JiIsZ+AFwTjsGlSTtulHHHSAzPwt8dsjiVxk4i5ckdYjvUJWkgoy7JBVk3CWpIOMuSQUZd0kqyLhLUkHGXZIKMu6SVJBxl6SCjLskFWTcJakg4y5JBRl3SSrIuEtSQcZdkgoy7pJUkHGXpIKMuyQVZNwlqSDjLkkFGXdJKsi4S1JBxl2SCjLuklSQcZekgoy7JBVk3CWpIOMuSQUZd0kqyLhLUkHGXZIKMu6SVJBxl6SCjLskFWTcJakg4y5JBRl3SSrIuEtSQcZdkgoy7pJUkHGXpIKMuyQVZNwlqSDjLkkFGXdJKsi4S1JBxl2SCjLuklSQcZekgoy7JBVk3CWpIOMuSQUZd0kqqKW4R8Q7I+LrEfF4RKyPiPdHxIERcXdEbGhuD2jXsJKkXdPqmftfASsz893AMcB6YAmwKjPnAKuax5KkcTTquEfEfsBJwN8DZOZrmflvwEJgebPZcuCs1kaUJI1UK2fuRwD9wLKI+FFEfDkipgGHZOZmgOb24OF2johLI2JNRKzp7+9vYQxJ0lCtxH0ycBxwfWbOB15mBJdgMnNpZvZmZu+MGTNaGEOSNFQrce8D+jJzdfP46wzE/rmImAnQ3D7f2oiSpJEaddwz8/8Cz0TEbzeLFgDrgDuAxc2yxcDtLU0oSRqxyS3u/wfAjRExFXgSuJCBHxi3RMTFwNPAOS0+hyRphFqKe2Y+DPQOs2pBK8eVJLXGd6hKUkHGXZIKMu6SVJBxl6SCjLskFWTcJakg4y5JBRl3SSrIuEtSQcZdkgoy7pJUkHGXpIKMuyQVZNwlqSDjLkkFGXdJKsi4S1JBxl2SCjLuklSQcZekgoy7JBVk3CWpIOMuSQUZd0kqyLhLUkHGXZIKMu6SVJBxl6SCjLskFWTcJakg4y5JBRl3SSrIuEtSQcZdkgoy7pJUkHGXpIKMuyQVZNwlqSDjLkkFGXdJKsi4S1JBxl2SCjLuklSQcZekgoy7JBVk3CWpIOMuSQUZd0kqyLhLUkHGXZIKMu6SVJBxl6SCjLskFdRy3CNiUkT8KCLubB4fGBF3R8SG5vaA1seUJI1EO87cLwfWD3q8BFiVmXOAVc1jSdI4ainuEdENnAF8edDihcDy5v5y4KxWnkOSNHKtnrlfC/x34I1Byw7JzM0Aze3Bw+0YEZdGxJqIWNPf39/iGJKkwUYd94j4KPB8Zq4dzf6ZuTQzezOzd8aMGaMdQ5I0jMkt7PsB4MyIOB3oAvaLiH8AnouImZm5OSJmAs+3Y1BJ0q4b9Zl7Zl6Zmd2Z2QMsAu7JzPOBO4DFzWaLgdtbnlKSNCJj8Tr3LwCnRMQG4JTmsSRpHLVyWeYtmXkfcF9zfwuwoB3HlSSNju9QlaSCjLskFWTcJakg4y5JBRl3SSrIuEtSQcZdkgoy7pJUkHGXpIKMuyQVZNwlqSDjLkkFGXdJKsi4S1JBxl2SCjLuklSQcZekgoy7JBVk3CWpIOMuSQUZd0kqyLhLUkHGXZIKMu6SVJBxl6SCjLskFWTcJakg4y5JBRl3SSrIuEtSQcZdkgoy7pJUkHGXpIKMuyQVZNwlqSDjLkkFGXdJKsi4S1JBxl2SCjLuklSQcZekgoy7JBVk3CWpIOMuSQUZd0kqyLhLUkHGXZIKMu6SVJBxl6SCjLskFWTcJakg4y5JBRl3SSpo1HGPiFkRcW9ErI+IxyLi8mb5gRFxd0RsaG4PaN+4kqRd0cqZ+y+B/5aZ7wF+B7gsIo4ClgCrMnMOsKp5LEkaR6OOe2ZuzsyHmvsvAeuBw4CFwPJms+XAWS3OKEkaobZcc4+IHmA+sBo4JDM3w8APAODg7exzaUSsiYg1/f397RhDktRoOe4RsQ9wK/BHmfnzXd0vM5dmZm9m9s6YMaPVMSRJg7QU94iYwkDYb8zMbzSLn4uImc36mcDzrY0oSRqpVl4tE8DfA+sz84uDVt0BLG7uLwZuH/14kqTRmNzCvh8Afg94JCIebpb9D+ALwC0RcTHwNHBOSxNKkkZs1HHPzO8DsZ3VC0Z7XElS63yHqiQVZNwlqSDjLkkFtfILVWm38/rrr9PX18fWrVs7Pcp2dXV10d3dzZQpUzo9igoz7iqlr6+Pfffdl56eHgZerbt7yUy2bNlCX18fs2fP7vQ4KszLMipl69atHHTQQbtl2AEigoMOOmi3/j8L1WDcVc7uGvY37e7zqQbjLkkFGXdNWNdeey2vvPLKiPbZuHEj8+bNG6OJpPYx7pqwdhT3bdu2jfM0UnsZd00IL7/8MmeccQbHHHMM8+bN4+qrr2bTpk2cfPLJnHzyyQDss88+XHXVVZxwwgncf//9fPGLX2TevHnMmzePa6+99m3HfPLJJ5k/fz4PPvggP/vZzzjttNN473vfy4knnsjjjz8+zl+h9Ot8KaQmhJUrV3LooYfyrW99C4AXX3yRZcuWce+99zJ9+nRg4AfAvHnzuOaaa1i7di3Lli1j9erVZCYnnHACH/zgBznggIF/EviJJ55g0aJFLFu2jGOPPZYFCxbwpS99iTlz5rB69Wo++clPcs8993Ts65WMuyaEo48+miuuuILPfOYzfPSjH+XEE0982zaTJk3i7LPPBuD73/8+H/vYx5g2bRoAH//4x/ne977HmWeeSX9/PwsXLuTWW29l7ty5/OIXv+CHP/wh55zzqw9AffXVV8fnC5O2w7hrQnjXu97F2rVr+fa3v82VV17Jhz/84bdt09XVxaRJk4CBNxttz/7778+sWbP4wQ9+wNy5c3njjTd45zvfycMPPzxW40sj5jV3TQibNm1i77335vzzz+eKK67goYceYt999+Wll14advuTTjqJ2267jVdeeYWXX36Zb37zm2+d7U+dOpXbbruNr371q9x0003st99+zJ49m6997WvAwA+GH//4x+P2tUnD8cxdE8IjjzzCpz/9afbaay+mTJnC9ddfz/33389HPvIRZs6cyb333vtr2x933HFccMEFHH/88QBccsklzJ8/n40bNwIwbdo07rzzTk455RSmTZvGjTfeyCc+8Qk+//nP8/rrr7No0SKOOeaY8f4ypbfEjv73c7z09vbmmjVrOj3GTvUs+VanRyhl4xfOaPsx169fz3ve8562H7fdxmJOvz/bZyy+N8dCRKzNzN7h1nlZRpIKMu6SVJBxl6SCjLskFWTcJakg4y5JBfk6d5XW7pcH7spL5FauXMnll1/Otm3buOSSS1iyZElbZ5B2hWfuUhtt27aNyy67jO985zusW7eOFStWsG7duk6PpQnIuEtt9MADD3DkkUdyxBFHMHXqVBYtWsTtt9/e6bE0ARl3qY2effZZZs2a9dbj7u5unn322Q5OpInKuEttNNzHefgPYqsTjLvURt3d3TzzzDNvPe7r6+PQQw/t4ESaqIy71Ebve9/72LBhA0899RSvvfYaN998M2eeeWanx9IE5EshVdp4f7rf5MmTue666zj11FPZtm0bF110EXPnzh3XGSQw7lLbnX766Zx++umdHkMTnJdlJKkg4y5JBRl3SSrIuEtSQcZdkgoy7pJUkC+FVG2f27/Nx3txp5tcdNFF3HnnnRx88ME8+uij7X1+aRd55i612QUXXMDKlSs7PYYmOOMutdlJJ53EgQce2OkxNMEZd0kqyLhLUkHGXZIKMu6SVJAvhVRtu/DSxXY777zzuO+++3jhhRfo7u7m6quv5uKLLx73OTSxGXepzVasWNHpESQvy0hSRcZdkgoy7ionMzs9wg7t7vOpBuOuUrq6utiyZctuG9DMZMuWLXR1dXV6FBXnL1RVSnd3N319ffT393d6lO3q6uqiu7u702OoOOOuUqZMmcLs2bM7PYbUcWN2WSYiTouIJyLipxGxZKyeR5L0dmMS94iYBPwN8BHgKOC8iDhqLJ5LkvR2Y3Xmfjzw08x8MjNfA24GFo7Rc0mShhira+6HAc8MetwHnDB4g4i4FLi0efiLiHhijGaZiKYDL3R6iJ2JP+/0BOoAvzfb6ze3t2Ks4h7DLPu116Zl5lJg6Rg9/4QWEWsys7fTc0hD+b05fsbqskwfMGvQ425g0xg9lyRpiLGK+4PAnIiYHRFTgUXAHWP0XJKkIcbkskxm/jIifh/4LjAJ+EpmPjYWz6VheblLuyu/N8dJ7K5v05YkjZ6fLSNJBRl3SSrIuEtSQcZdkgryUyELiIh3M/DxDocx8GaxTcAdmbm+o4NJ6hjP3PdwEfEZBj67J4AHGHiPQQAr/DRO7c4i4sJOz1CZL4Xcw0XEPwNzM/P1IcunAo9l5pzOTCbtWEQ8nZmHd3qOqrwss+d7AzgU+Jchy2c266SOiYifbG8VcMh4zjLRGPc93x8BqyJiA7/6JM7DgSOB3+/UUFLjEOBU4F+HLA/gh+M/zsRh3PdwmbkyIt7FwGfoH8bAfzR9wIOZua2jw0lwJ7BPZj48dEVE3Dfu00wgXnOXpIJ8tYwkFWTcJakg467dXkT0RMSj4/h8x0bE6WNw3Gsi4kPtPq40HH+hKg0SEZOBY4Fe4NvtPHZmXtXO40k74pm79hSTIuLvIuKxiLgrIuZGxENvroyIORGxtrm/MSL+PCIeaP4c2SyfERG3RsSDzZ8PNMs/FxFLI+Iu4KvANcC5EfFwRJwbEdMi4ivNPj+KiIXNfhdExDciYmVEbIiI/9ksnxQRN0TEoxHxSER8qll+Q0T85+b+guZYjzTHfseg2a+OiIeade8et79hlWLctaeYA/xNZs4F/g2YD7wYEcc26y8Ebhi0/c8z83jgOuDaZtlfAX+Zme8Dzga+PGj79wILM/N3gauAf8zMYzPzH4E/Bu5p9jsZ+IuImNbsdyxwLnA0Az8QZjXLDsvMeZl5NLBs8BcSEV3NrOc26ycDnxi0yQuZeRxwPXDFrv8VSb9i3LWneGrQa6XXAj0MxPnCiJjEQGBvGrT9ikG372/ufwi4LiIeZuDf9N0vIvZt1t2Rmf++nef+MLCk2e8+oIuBN4oBrMrMFzNzK7AO+E3gSeCIiPjriDgN+PmQ4/128/X8c/N4OXDSoPXfGPJ1SiPmNXftKV4ddH8b8BvArcBngXuAtZm5ZdA2Ocz9vYD3D414RAC8vIPnDuDszHxiyH4nDDPX5Mz814g4hoF3Zl4G/BfgoiHH25E3j7kN/xvVKHnmrj1Wc7b8XQYuXywbsvrcQbf3N/fvYtBHMgy6pDPUS8C+gx5/F/iDaH4KRMT8Hc0VEdOBvTLzVuBPgOOGbPI40PPm7wKA3wP+aUfHlEbKuGtPdyMDZ+Z3DVn+johYDVwOfKpZ9odAb0T8JCLWAf91O8e8FzjqzV+oAn8KTAF+0rwk8093MtNhwH3NZZwbgCsHr2x+KF0IfC0iHmHgA96+tLMvVBoJP35Ae7SIuALYPzP/ZNCyjUBvZr7QscGkDvN6nvZYEfFN4LeA/9TpWaTdjWfuklSQ19wlqSDjLkkFGXdJKsi4S1JBxl2SCvr/CUFyvAk6FAQAAAAASUVORK5CYII=",
      "text/plain": [
       "<Figure size 432x432 with 1 Axes>"
      ]
     },
     "metadata": {
      "needs_background": "light"
     }
    }
   ],
   "metadata": {}
  },
  {
   "cell_type": "code",
   "execution_count": 70,
   "source": [
    "X = df.drop('stroke', axis = 1)"
   ],
   "outputs": [],
   "metadata": {}
  },
  {
   "cell_type": "code",
   "execution_count": 71,
   "source": [
    "from sklearn.preprocessing import LabelEncoder\r\n",
    "labelencdoer = LabelEncoder()\r\n",
    "df['gender']=labelencdoer.fit_transform(df['gender'])\r\n",
    "df['ever_married']=labelencdoer.fit_transform(df['ever_married'])\r\n",
    "df['work_type'].value_counts()\r\n",
    "df\r\n"
   ],
   "outputs": [
    {
     "output_type": "execute_result",
     "data": {
      "text/html": [
       "<div>\n",
       "<style scoped>\n",
       "    .dataframe tbody tr th:only-of-type {\n",
       "        vertical-align: middle;\n",
       "    }\n",
       "\n",
       "    .dataframe tbody tr th {\n",
       "        vertical-align: top;\n",
       "    }\n",
       "\n",
       "    .dataframe thead th {\n",
       "        text-align: right;\n",
       "    }\n",
       "</style>\n",
       "<table border=\"1\" class=\"dataframe\">\n",
       "  <thead>\n",
       "    <tr style=\"text-align: right;\">\n",
       "      <th></th>\n",
       "      <th>gender</th>\n",
       "      <th>age</th>\n",
       "      <th>hypertension</th>\n",
       "      <th>heart_disease</th>\n",
       "      <th>ever_married</th>\n",
       "      <th>work_type</th>\n",
       "      <th>Residence_type</th>\n",
       "      <th>avg_glucose_level</th>\n",
       "      <th>bmi</th>\n",
       "      <th>smoking_status</th>\n",
       "      <th>stroke</th>\n",
       "    </tr>\n",
       "  </thead>\n",
       "  <tbody>\n",
       "    <tr>\n",
       "      <th>0</th>\n",
       "      <td>1</td>\n",
       "      <td>67.0</td>\n",
       "      <td>0</td>\n",
       "      <td>1</td>\n",
       "      <td>1</td>\n",
       "      <td>Private</td>\n",
       "      <td>Urban</td>\n",
       "      <td>228.69</td>\n",
       "      <td>36.6</td>\n",
       "      <td>formerly smoked</td>\n",
       "      <td>1</td>\n",
       "    </tr>\n",
       "    <tr>\n",
       "      <th>2</th>\n",
       "      <td>1</td>\n",
       "      <td>80.0</td>\n",
       "      <td>0</td>\n",
       "      <td>1</td>\n",
       "      <td>1</td>\n",
       "      <td>Private</td>\n",
       "      <td>Rural</td>\n",
       "      <td>105.92</td>\n",
       "      <td>32.5</td>\n",
       "      <td>never smoked</td>\n",
       "      <td>1</td>\n",
       "    </tr>\n",
       "    <tr>\n",
       "      <th>3</th>\n",
       "      <td>0</td>\n",
       "      <td>49.0</td>\n",
       "      <td>0</td>\n",
       "      <td>0</td>\n",
       "      <td>1</td>\n",
       "      <td>Private</td>\n",
       "      <td>Urban</td>\n",
       "      <td>171.23</td>\n",
       "      <td>34.4</td>\n",
       "      <td>smokes</td>\n",
       "      <td>1</td>\n",
       "    </tr>\n",
       "    <tr>\n",
       "      <th>4</th>\n",
       "      <td>0</td>\n",
       "      <td>79.0</td>\n",
       "      <td>1</td>\n",
       "      <td>0</td>\n",
       "      <td>1</td>\n",
       "      <td>Self-employed</td>\n",
       "      <td>Rural</td>\n",
       "      <td>174.12</td>\n",
       "      <td>24.0</td>\n",
       "      <td>never smoked</td>\n",
       "      <td>1</td>\n",
       "    </tr>\n",
       "    <tr>\n",
       "      <th>5</th>\n",
       "      <td>1</td>\n",
       "      <td>81.0</td>\n",
       "      <td>0</td>\n",
       "      <td>0</td>\n",
       "      <td>1</td>\n",
       "      <td>Private</td>\n",
       "      <td>Urban</td>\n",
       "      <td>186.21</td>\n",
       "      <td>29.0</td>\n",
       "      <td>formerly smoked</td>\n",
       "      <td>1</td>\n",
       "    </tr>\n",
       "    <tr>\n",
       "      <th>...</th>\n",
       "      <td>...</td>\n",
       "      <td>...</td>\n",
       "      <td>...</td>\n",
       "      <td>...</td>\n",
       "      <td>...</td>\n",
       "      <td>...</td>\n",
       "      <td>...</td>\n",
       "      <td>...</td>\n",
       "      <td>...</td>\n",
       "      <td>...</td>\n",
       "      <td>...</td>\n",
       "    </tr>\n",
       "    <tr>\n",
       "      <th>5104</th>\n",
       "      <td>0</td>\n",
       "      <td>13.0</td>\n",
       "      <td>0</td>\n",
       "      <td>0</td>\n",
       "      <td>0</td>\n",
       "      <td>children</td>\n",
       "      <td>Rural</td>\n",
       "      <td>103.08</td>\n",
       "      <td>18.6</td>\n",
       "      <td>Unknown</td>\n",
       "      <td>0</td>\n",
       "    </tr>\n",
       "    <tr>\n",
       "      <th>5106</th>\n",
       "      <td>0</td>\n",
       "      <td>81.0</td>\n",
       "      <td>0</td>\n",
       "      <td>0</td>\n",
       "      <td>1</td>\n",
       "      <td>Self-employed</td>\n",
       "      <td>Urban</td>\n",
       "      <td>125.20</td>\n",
       "      <td>40.0</td>\n",
       "      <td>never smoked</td>\n",
       "      <td>0</td>\n",
       "    </tr>\n",
       "    <tr>\n",
       "      <th>5107</th>\n",
       "      <td>0</td>\n",
       "      <td>35.0</td>\n",
       "      <td>0</td>\n",
       "      <td>0</td>\n",
       "      <td>1</td>\n",
       "      <td>Self-employed</td>\n",
       "      <td>Rural</td>\n",
       "      <td>82.99</td>\n",
       "      <td>30.6</td>\n",
       "      <td>never smoked</td>\n",
       "      <td>0</td>\n",
       "    </tr>\n",
       "    <tr>\n",
       "      <th>5108</th>\n",
       "      <td>1</td>\n",
       "      <td>51.0</td>\n",
       "      <td>0</td>\n",
       "      <td>0</td>\n",
       "      <td>1</td>\n",
       "      <td>Private</td>\n",
       "      <td>Rural</td>\n",
       "      <td>166.29</td>\n",
       "      <td>25.6</td>\n",
       "      <td>formerly smoked</td>\n",
       "      <td>0</td>\n",
       "    </tr>\n",
       "    <tr>\n",
       "      <th>5109</th>\n",
       "      <td>0</td>\n",
       "      <td>44.0</td>\n",
       "      <td>0</td>\n",
       "      <td>0</td>\n",
       "      <td>1</td>\n",
       "      <td>Govt_job</td>\n",
       "      <td>Urban</td>\n",
       "      <td>85.28</td>\n",
       "      <td>26.2</td>\n",
       "      <td>Unknown</td>\n",
       "      <td>0</td>\n",
       "    </tr>\n",
       "  </tbody>\n",
       "</table>\n",
       "<p>4908 rows × 11 columns</p>\n",
       "</div>"
      ],
      "text/plain": [
       "      gender   age  hypertension  heart_disease  ever_married      work_type  \\\n",
       "0          1  67.0             0              1             1        Private   \n",
       "2          1  80.0             0              1             1        Private   \n",
       "3          0  49.0             0              0             1        Private   \n",
       "4          0  79.0             1              0             1  Self-employed   \n",
       "5          1  81.0             0              0             1        Private   \n",
       "...      ...   ...           ...            ...           ...            ...   \n",
       "5104       0  13.0             0              0             0       children   \n",
       "5106       0  81.0             0              0             1  Self-employed   \n",
       "5107       0  35.0             0              0             1  Self-employed   \n",
       "5108       1  51.0             0              0             1        Private   \n",
       "5109       0  44.0             0              0             1       Govt_job   \n",
       "\n",
       "     Residence_type  avg_glucose_level   bmi   smoking_status  stroke  \n",
       "0             Urban             228.69  36.6  formerly smoked       1  \n",
       "2             Rural             105.92  32.5     never smoked       1  \n",
       "3             Urban             171.23  34.4           smokes       1  \n",
       "4             Rural             174.12  24.0     never smoked       1  \n",
       "5             Urban             186.21  29.0  formerly smoked       1  \n",
       "...             ...                ...   ...              ...     ...  \n",
       "5104          Rural             103.08  18.6          Unknown       0  \n",
       "5106          Urban             125.20  40.0     never smoked       0  \n",
       "5107          Rural              82.99  30.6     never smoked       0  \n",
       "5108          Rural             166.29  25.6  formerly smoked       0  \n",
       "5109          Urban              85.28  26.2          Unknown       0  \n",
       "\n",
       "[4908 rows x 11 columns]"
      ]
     },
     "metadata": {},
     "execution_count": 71
    }
   ],
   "metadata": {}
  },
  {
   "cell_type": "code",
   "execution_count": 72,
   "source": [
    "df = pd.get_dummies(df, columns=['gender', 'ever_married',\r\n",
    "       'work_type', 'Residence_type', 'smoking_status',], drop_first=True)"
   ],
   "outputs": [],
   "metadata": {}
  },
  {
   "cell_type": "code",
   "execution_count": 73,
   "source": [
    "df"
   ],
   "outputs": [
    {
     "output_type": "execute_result",
     "data": {
      "text/html": [
       "<div>\n",
       "<style scoped>\n",
       "    .dataframe tbody tr th:only-of-type {\n",
       "        vertical-align: middle;\n",
       "    }\n",
       "\n",
       "    .dataframe tbody tr th {\n",
       "        vertical-align: top;\n",
       "    }\n",
       "\n",
       "    .dataframe thead th {\n",
       "        text-align: right;\n",
       "    }\n",
       "</style>\n",
       "<table border=\"1\" class=\"dataframe\">\n",
       "  <thead>\n",
       "    <tr style=\"text-align: right;\">\n",
       "      <th></th>\n",
       "      <th>age</th>\n",
       "      <th>hypertension</th>\n",
       "      <th>heart_disease</th>\n",
       "      <th>avg_glucose_level</th>\n",
       "      <th>bmi</th>\n",
       "      <th>stroke</th>\n",
       "      <th>gender_1</th>\n",
       "      <th>ever_married_1</th>\n",
       "      <th>work_type_Never_worked</th>\n",
       "      <th>work_type_Private</th>\n",
       "      <th>work_type_Self-employed</th>\n",
       "      <th>work_type_children</th>\n",
       "      <th>Residence_type_Urban</th>\n",
       "      <th>smoking_status_formerly smoked</th>\n",
       "      <th>smoking_status_never smoked</th>\n",
       "      <th>smoking_status_smokes</th>\n",
       "    </tr>\n",
       "  </thead>\n",
       "  <tbody>\n",
       "    <tr>\n",
       "      <th>0</th>\n",
       "      <td>67.0</td>\n",
       "      <td>0</td>\n",
       "      <td>1</td>\n",
       "      <td>228.69</td>\n",
       "      <td>36.6</td>\n",
       "      <td>1</td>\n",
       "      <td>1</td>\n",
       "      <td>1</td>\n",
       "      <td>0</td>\n",
       "      <td>1</td>\n",
       "      <td>0</td>\n",
       "      <td>0</td>\n",
       "      <td>1</td>\n",
       "      <td>1</td>\n",
       "      <td>0</td>\n",
       "      <td>0</td>\n",
       "    </tr>\n",
       "    <tr>\n",
       "      <th>2</th>\n",
       "      <td>80.0</td>\n",
       "      <td>0</td>\n",
       "      <td>1</td>\n",
       "      <td>105.92</td>\n",
       "      <td>32.5</td>\n",
       "      <td>1</td>\n",
       "      <td>1</td>\n",
       "      <td>1</td>\n",
       "      <td>0</td>\n",
       "      <td>1</td>\n",
       "      <td>0</td>\n",
       "      <td>0</td>\n",
       "      <td>0</td>\n",
       "      <td>0</td>\n",
       "      <td>1</td>\n",
       "      <td>0</td>\n",
       "    </tr>\n",
       "    <tr>\n",
       "      <th>3</th>\n",
       "      <td>49.0</td>\n",
       "      <td>0</td>\n",
       "      <td>0</td>\n",
       "      <td>171.23</td>\n",
       "      <td>34.4</td>\n",
       "      <td>1</td>\n",
       "      <td>0</td>\n",
       "      <td>1</td>\n",
       "      <td>0</td>\n",
       "      <td>1</td>\n",
       "      <td>0</td>\n",
       "      <td>0</td>\n",
       "      <td>1</td>\n",
       "      <td>0</td>\n",
       "      <td>0</td>\n",
       "      <td>1</td>\n",
       "    </tr>\n",
       "    <tr>\n",
       "      <th>4</th>\n",
       "      <td>79.0</td>\n",
       "      <td>1</td>\n",
       "      <td>0</td>\n",
       "      <td>174.12</td>\n",
       "      <td>24.0</td>\n",
       "      <td>1</td>\n",
       "      <td>0</td>\n",
       "      <td>1</td>\n",
       "      <td>0</td>\n",
       "      <td>0</td>\n",
       "      <td>1</td>\n",
       "      <td>0</td>\n",
       "      <td>0</td>\n",
       "      <td>0</td>\n",
       "      <td>1</td>\n",
       "      <td>0</td>\n",
       "    </tr>\n",
       "    <tr>\n",
       "      <th>5</th>\n",
       "      <td>81.0</td>\n",
       "      <td>0</td>\n",
       "      <td>0</td>\n",
       "      <td>186.21</td>\n",
       "      <td>29.0</td>\n",
       "      <td>1</td>\n",
       "      <td>1</td>\n",
       "      <td>1</td>\n",
       "      <td>0</td>\n",
       "      <td>1</td>\n",
       "      <td>0</td>\n",
       "      <td>0</td>\n",
       "      <td>1</td>\n",
       "      <td>1</td>\n",
       "      <td>0</td>\n",
       "      <td>0</td>\n",
       "    </tr>\n",
       "    <tr>\n",
       "      <th>...</th>\n",
       "      <td>...</td>\n",
       "      <td>...</td>\n",
       "      <td>...</td>\n",
       "      <td>...</td>\n",
       "      <td>...</td>\n",
       "      <td>...</td>\n",
       "      <td>...</td>\n",
       "      <td>...</td>\n",
       "      <td>...</td>\n",
       "      <td>...</td>\n",
       "      <td>...</td>\n",
       "      <td>...</td>\n",
       "      <td>...</td>\n",
       "      <td>...</td>\n",
       "      <td>...</td>\n",
       "      <td>...</td>\n",
       "    </tr>\n",
       "    <tr>\n",
       "      <th>5104</th>\n",
       "      <td>13.0</td>\n",
       "      <td>0</td>\n",
       "      <td>0</td>\n",
       "      <td>103.08</td>\n",
       "      <td>18.6</td>\n",
       "      <td>0</td>\n",
       "      <td>0</td>\n",
       "      <td>0</td>\n",
       "      <td>0</td>\n",
       "      <td>0</td>\n",
       "      <td>0</td>\n",
       "      <td>1</td>\n",
       "      <td>0</td>\n",
       "      <td>0</td>\n",
       "      <td>0</td>\n",
       "      <td>0</td>\n",
       "    </tr>\n",
       "    <tr>\n",
       "      <th>5106</th>\n",
       "      <td>81.0</td>\n",
       "      <td>0</td>\n",
       "      <td>0</td>\n",
       "      <td>125.20</td>\n",
       "      <td>40.0</td>\n",
       "      <td>0</td>\n",
       "      <td>0</td>\n",
       "      <td>1</td>\n",
       "      <td>0</td>\n",
       "      <td>0</td>\n",
       "      <td>1</td>\n",
       "      <td>0</td>\n",
       "      <td>1</td>\n",
       "      <td>0</td>\n",
       "      <td>1</td>\n",
       "      <td>0</td>\n",
       "    </tr>\n",
       "    <tr>\n",
       "      <th>5107</th>\n",
       "      <td>35.0</td>\n",
       "      <td>0</td>\n",
       "      <td>0</td>\n",
       "      <td>82.99</td>\n",
       "      <td>30.6</td>\n",
       "      <td>0</td>\n",
       "      <td>0</td>\n",
       "      <td>1</td>\n",
       "      <td>0</td>\n",
       "      <td>0</td>\n",
       "      <td>1</td>\n",
       "      <td>0</td>\n",
       "      <td>0</td>\n",
       "      <td>0</td>\n",
       "      <td>1</td>\n",
       "      <td>0</td>\n",
       "    </tr>\n",
       "    <tr>\n",
       "      <th>5108</th>\n",
       "      <td>51.0</td>\n",
       "      <td>0</td>\n",
       "      <td>0</td>\n",
       "      <td>166.29</td>\n",
       "      <td>25.6</td>\n",
       "      <td>0</td>\n",
       "      <td>1</td>\n",
       "      <td>1</td>\n",
       "      <td>0</td>\n",
       "      <td>1</td>\n",
       "      <td>0</td>\n",
       "      <td>0</td>\n",
       "      <td>0</td>\n",
       "      <td>1</td>\n",
       "      <td>0</td>\n",
       "      <td>0</td>\n",
       "    </tr>\n",
       "    <tr>\n",
       "      <th>5109</th>\n",
       "      <td>44.0</td>\n",
       "      <td>0</td>\n",
       "      <td>0</td>\n",
       "      <td>85.28</td>\n",
       "      <td>26.2</td>\n",
       "      <td>0</td>\n",
       "      <td>0</td>\n",
       "      <td>1</td>\n",
       "      <td>0</td>\n",
       "      <td>0</td>\n",
       "      <td>0</td>\n",
       "      <td>0</td>\n",
       "      <td>1</td>\n",
       "      <td>0</td>\n",
       "      <td>0</td>\n",
       "      <td>0</td>\n",
       "    </tr>\n",
       "  </tbody>\n",
       "</table>\n",
       "<p>4908 rows × 16 columns</p>\n",
       "</div>"
      ],
      "text/plain": [
       "       age  hypertension  heart_disease  avg_glucose_level   bmi  stroke  \\\n",
       "0     67.0             0              1             228.69  36.6       1   \n",
       "2     80.0             0              1             105.92  32.5       1   \n",
       "3     49.0             0              0             171.23  34.4       1   \n",
       "4     79.0             1              0             174.12  24.0       1   \n",
       "5     81.0             0              0             186.21  29.0       1   \n",
       "...    ...           ...            ...                ...   ...     ...   \n",
       "5104  13.0             0              0             103.08  18.6       0   \n",
       "5106  81.0             0              0             125.20  40.0       0   \n",
       "5107  35.0             0              0              82.99  30.6       0   \n",
       "5108  51.0             0              0             166.29  25.6       0   \n",
       "5109  44.0             0              0              85.28  26.2       0   \n",
       "\n",
       "      gender_1  ever_married_1  work_type_Never_worked  work_type_Private  \\\n",
       "0            1               1                       0                  1   \n",
       "2            1               1                       0                  1   \n",
       "3            0               1                       0                  1   \n",
       "4            0               1                       0                  0   \n",
       "5            1               1                       0                  1   \n",
       "...        ...             ...                     ...                ...   \n",
       "5104         0               0                       0                  0   \n",
       "5106         0               1                       0                  0   \n",
       "5107         0               1                       0                  0   \n",
       "5108         1               1                       0                  1   \n",
       "5109         0               1                       0                  0   \n",
       "\n",
       "      work_type_Self-employed  work_type_children  Residence_type_Urban  \\\n",
       "0                           0                   0                     1   \n",
       "2                           0                   0                     0   \n",
       "3                           0                   0                     1   \n",
       "4                           1                   0                     0   \n",
       "5                           0                   0                     1   \n",
       "...                       ...                 ...                   ...   \n",
       "5104                        0                   1                     0   \n",
       "5106                        1                   0                     1   \n",
       "5107                        1                   0                     0   \n",
       "5108                        0                   0                     0   \n",
       "5109                        0                   0                     1   \n",
       "\n",
       "      smoking_status_formerly smoked  smoking_status_never smoked  \\\n",
       "0                                  1                            0   \n",
       "2                                  0                            1   \n",
       "3                                  0                            0   \n",
       "4                                  0                            1   \n",
       "5                                  1                            0   \n",
       "...                              ...                          ...   \n",
       "5104                               0                            0   \n",
       "5106                               0                            1   \n",
       "5107                               0                            1   \n",
       "5108                               1                            0   \n",
       "5109                               0                            0   \n",
       "\n",
       "      smoking_status_smokes  \n",
       "0                         0  \n",
       "2                         0  \n",
       "3                         1  \n",
       "4                         0  \n",
       "5                         0  \n",
       "...                     ...  \n",
       "5104                      0  \n",
       "5106                      0  \n",
       "5107                      0  \n",
       "5108                      0  \n",
       "5109                      0  \n",
       "\n",
       "[4908 rows x 16 columns]"
      ]
     },
     "metadata": {},
     "execution_count": 73
    }
   ],
   "metadata": {}
  },
  {
   "cell_type": "code",
   "execution_count": 74,
   "source": [
    "y=df['stroke'].ravel()\r\n",
    "X = df.drop('stroke', axis=1)"
   ],
   "outputs": [],
   "metadata": {}
  },
  {
   "cell_type": "code",
   "execution_count": 75,
   "source": [
    "from sklearn.preprocessing import MinMaxScaler\r\n",
    "scaler = MinMaxScaler()\r\n",
    "\r\n",
    "X_scale=scaler.fit_transform(X)\r\n",
    "X_scale"
   ],
   "outputs": [
    {
     "output_type": "execute_result",
     "data": {
      "text/plain": [
       "array([[0.81689453, 0.        , 1.        , ..., 1.        , 0.        ,\n",
       "        0.        ],\n",
       "       [0.97558594, 0.        , 1.        , ..., 0.        , 1.        ,\n",
       "        0.        ],\n",
       "       [0.59716797, 0.        , 0.        , ..., 0.        , 0.        ,\n",
       "        1.        ],\n",
       "       ...,\n",
       "       [0.42626953, 0.        , 0.        , ..., 0.        , 1.        ,\n",
       "        0.        ],\n",
       "       [0.62158203, 0.        , 0.        , ..., 1.        , 0.        ,\n",
       "        0.        ],\n",
       "       [0.53613281, 0.        , 0.        , ..., 0.        , 0.        ,\n",
       "        0.        ]])"
      ]
     },
     "metadata": {},
     "execution_count": 75
    }
   ],
   "metadata": {}
  },
  {
   "cell_type": "code",
   "execution_count": 76,
   "source": [
    "X_train, X_test, y_train, y_test = train_test_split(X_scale, y, test_size=0.3, stratify=y, shuffle=True, random_state=7)"
   ],
   "outputs": [],
   "metadata": {}
  },
  {
   "cell_type": "code",
   "execution_count": 77,
   "source": [
    "from sklearn.linear_model import LogisticRegression\r\n",
    "\r\n",
    "lr=LogisticRegression(random_state=7)\r\n",
    "lr.fit(X_train, y_train)\r\n",
    "y_pred_lr=lr.predict(X_test)\r\n",
    "accuracy_score(y_test, y_pred_lr)\r\n",
    "print(classification_report(y_test,y_pred_lr))"
   ],
   "outputs": [
    {
     "output_type": "stream",
     "name": "stdout",
     "text": [
      "              precision    recall  f1-score   support\n",
      "\n",
      "           0       0.96      1.00      0.98      1410\n",
      "           1       0.00      0.00      0.00        63\n",
      "\n",
      "    accuracy                           0.96      1473\n",
      "   macro avg       0.48      0.50      0.49      1473\n",
      "weighted avg       0.92      0.96      0.94      1473\n",
      "\n"
     ]
    },
    {
     "output_type": "stream",
     "name": "stderr",
    }
   ],
   "metadata": {}
  },
  {
   "cell_type": "code",
   "execution_count": 78,
   "source": [
    "from sklearn.ensemble import RandomForestClassifier\r\n",
    "\r\n",
    "rf=RandomForestClassifier(random_state=7)\r\n",
    "rf.fit(X_train, y_train)\r\n",
    "y_pred_rf=rf.predict(X_test)\r\n",
    "print(classification_report(y_test,y_pred_rf))"
   ],
   "outputs": [
    {
     "output_type": "stream",
     "name": "stdout",
     "text": [
      "              precision    recall  f1-score   support\n",
      "\n",
      "           0       0.96      1.00      0.98      1410\n",
      "           1       0.33      0.02      0.03        63\n",
      "\n",
      "    accuracy                           0.96      1473\n",
      "   macro avg       0.65      0.51      0.50      1473\n",
      "weighted avg       0.93      0.96      0.94      1473\n",
      "\n"
     ]
    }
   ],
   "metadata": {}
  },
  {
   "cell_type": "code",
   "execution_count": 79,
   "source": [
    "from sklearn.neighbors import KNeighborsClassifier\r\n",
    "\r\n",
    "knn=KNeighborsClassifier()\r\n",
    "knn.fit(X_train, y_train)\r\n",
    "y_pred_knn=knn.predict(X_test)\r\n",
    "print(classification_report(y_test,y_pred_knn))"
   ],
   "outputs": [
    {
     "output_type": "stream",
     "name": "stdout",
     "text": [
      "              precision    recall  f1-score   support\n",
      "\n",
      "           0       0.96      1.00      0.98      1410\n",
      "           1       0.00      0.00      0.00        63\n",
      "\n",
      "    accuracy                           0.95      1473\n",
      "   macro avg       0.48      0.50      0.49      1473\n",
      "weighted avg       0.92      0.95      0.93      1473\n",
      "\n"
     ]
    }
   ],
   "metadata": {}
  },
  {
   "cell_type": "code",
   "execution_count": 80,
   "source": [
    "from imblearn.over_sampling import SMOTE\r\n",
    "\r\n",
    "sm = SMOTE()\r\n",
    "X_resampled, y_resampled = sm.fit_resample(X, y)\r\n",
    "sns.countplot(x = y_resampled, data = df)"
   ],
   "outputs": [
    {
     "output_type": "execute_result",
     "data": {
      "text/plain": [
       "<AxesSubplot:ylabel='count'>"
      ]
     },
     "metadata": {},
     "execution_count": 80
    },
    {
     "output_type": "display_data",
     "data": {
      "image/png": "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",
      "text/plain": [
       "<Figure size 432x288 with 1 Axes>"
      ]
     },
     "metadata": {
      "needs_background": "light"
     }
    }
   ],
   "metadata": {}
  },
  {
   "cell_type": "code",
   "execution_count": 81,
   "source": [
    "\r\n",
    "X_train_re, X_test_re, y_train_re, y_test_re = train_test_split(X_resampled, y_resampled, test_size = 0.3, random_state = 7)\r\n"
   ],
   "outputs": [],
   "metadata": {}
  },
  {
   "cell_type": "code",
   "execution_count": 82,
   "source": [
    "lr = LogisticRegression()\r\n",
    "lr.fit(X_train_re, y_train_re)\r\n",
    "lr_pred = lr.predict(X_test_re)\r\n",
    "print(confusion_matrix(lr_pred, y_test_re))\r\n",
    "print(classification_report(lr_pred, y_test_re))"
   ],
   "outputs": [
    {
     "output_type": "stream",
     "name": "stdout",
     "text": [
      "[[1244  196]\n",
      " [ 193 1187]]\n",
      "              precision    recall  f1-score   support\n",
      "\n",
      "           0       0.87      0.86      0.86      1440\n",
      "           1       0.86      0.86      0.86      1380\n",
      "\n",
      "    accuracy                           0.86      2820\n",
      "   macro avg       0.86      0.86      0.86      2820\n",
      "weighted avg       0.86      0.86      0.86      2820\n",
      "\n"
     ]
    },
    {
     "output_type": "stream",
     "name": "stderr",
   ],
   "metadata": {}
  },
  {
   "cell_type": "code",
   "execution_count": 83,
   "source": [
    "dt = RandomForestClassifier()\r\n",
    "dt.fit(X_train_re, y_train_re)\r\n",
    "dt_pred = dt.predict(X_test_re)\r\n",
    "print(confusion_matrix(dt_pred, y_test_re))\r\n",
    "print(classification_report(dt_pred, y_test_re))"
   ],
   "outputs": [
    {
     "output_type": "stream",
     "name": "stdout",
     "text": [
      "[[1360   47]\n",
      " [  77 1336]]\n",
      "              precision    recall  f1-score   support\n",
      "\n",
      "           0       0.95      0.97      0.96      1407\n",
      "           1       0.97      0.95      0.96      1413\n",
      "\n",
      "    accuracy                           0.96      2820\n",
      "   macro avg       0.96      0.96      0.96      2820\n",
      "weighted avg       0.96      0.96      0.96      2820\n",
      "\n"
     ]
    }
   ],
   "metadata": {}
  },
  {
   "cell_type": "code",
   "execution_count": 84,
   "source": [
    "from sklearn.svm import SVC\r\n",
    "\r\n",
    "svm_model= SVC()\r\n",
    "svm_model.fit(X_train_re, y_train_re)\r\n",
    "y_pred = svm_model.predict(X_test_re)\r\n",
    "\r\n",
    "print(confusion_matrix(y_test_re, y_pred))\r\n",
    "print(classification_report(y_test_re, y_pred))"
   ],
   "outputs": [
    {
     "output_type": "stream",
     "name": "stdout",
     "text": [
      "[[1054  383]\n",
      " [ 266 1117]]\n",
      "              precision    recall  f1-score   support\n",
      "\n",
      "           0       0.80      0.73      0.76      1437\n",
      "           1       0.74      0.81      0.77      1383\n",
      "\n",
      "    accuracy                           0.77      2820\n",
      "   macro avg       0.77      0.77      0.77      2820\n",
      "weighted avg       0.77      0.77      0.77      2820\n",
      "\n"
     ]
    }
   ],
   "metadata": {}
  },
  {
   "cell_type": "code",
   "execution_count": null,
   "source": [],
   "outputs": [],
   "metadata": {}
  },
  {
   "cell_type": "code",
   "execution_count": null,
   "source": [],
   "outputs": [],
   "metadata": {}
  }
 ],
 "metadata": {
  "orig_nbformat": 4,
  "language_info": {
   "name": "python",
   "version": "3.8.8",
   "mimetype": "text/x-python",
   "codemirror_mode": {
    "name": "ipython",
    "version": 3
   },
   "pygments_lexer": "ipython3",
   "nbconvert_exporter": "python",
   "file_extension": ".py"
  },
  "kernelspec": {
   "name": "python3",
   "display_name": "Python 3.8.8 64-bit ('base': conda)"
  },
  "interpreter": {
   "hash": "2302258acdcd537c3a35281d76bedcaa702b9628ae0d40c313295bb786f0b948"
  }
 },
 "nbformat": 4,
 "nbformat_minor": 2
}
